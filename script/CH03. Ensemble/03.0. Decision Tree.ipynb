{
 "cells": [
  {
   "cell_type": "markdown",
   "metadata": {},
   "source": [
    "# CH03.0. **Decision Tree**"
   ]
  },
  {
   "cell_type": "markdown",
   "metadata": {},
   "source": [
    "> ## **Terminologies of Tree Structure**"
   ]
  },
  {
   "cell_type": "markdown",
   "metadata": {},
   "source": [
    "#### **[GRAPH]**"
   ]
  },
  {
   "cell_type": "markdown",
   "metadata": {},
   "source": [
    "#### **(1) 노드(Node;마디)** : 트리 구조를 구성하는 기본 지점\n",
    "#### $ \\hspace{0.15cm} $ ① Root Node : (트리 구조에서) 가장 위에 있는 노드\n",
    "#### $ \\hspace{0.15cm} $ ② Leaf Node : 가장 아래에 있는 노드\n",
    "#### $ \\hspace{0.15cm} $ ③ Parant Node : 자식 노드를 하나 이상 가지고 있는 노드 \n",
    "#### $ \\hspace{0.15cm} $ ④ Child Node : 특정 노드(부모)로 부터 직접적인 연결을 통해 내려가는 노드 "
   ]
  },
  {
   "cell_type": "markdown",
   "metadata": {},
   "source": [
    "#### **(`PLUS`)** root-leaf의 관계는 트리 구조에서 전역적(global)인 개념이고 parant-child 관계는 두 노드 간에 대한 국지적(local)인 개념임"
   ]
  },
  {
   "cell_type": "markdown",
   "metadata": {},
   "source": [
    "#### **(2) 분할 기준(Split Criterion)** : 노드를 분할(Split)할 때 사용하는 지표"
   ]
  },
  {
   "cell_type": "markdown",
   "metadata": {},
   "source": [
    "<b></b>"
   ]
  },
  {
   "cell_type": "markdown",
   "metadata": {},
   "source": [
    "> ## **Decision Tree**"
   ]
  },
  {
   "cell_type": "markdown",
   "metadata": {},
   "source": [
    "#### **(1) 정의** : 트리 구조를 통해 데이터를 여러 번 분할(Split)하여 쉽게 해석할 수 있는 규칙을 도출하고, 최종적으로 예측 결과를 산출하는 모델\n",
    "#### $ = $ 특성공간(feature space) $ \\, \\mathbb{R}^{m} $ 을 서로소(disjoint;비분할) 공간으로 분할하는 함수\n",
    "#### $ \\Rightarrow{} f(x) = \\displaystyle\\sum^{K}_{k=1} \\hat{y}_{k} \\textbf{1}_{\\{\\textbf{x} \\in{} R_{k}\\}} $ \n",
    "#### $ \\hspace{0.15cm} \\text{where } \\, X = \\{ \\textbf{x}_{1}, \\cdots{}, \\textbf{x}_{1} \\} \\;\\; \\text{ and } \\, Y = \\{ y_{1}, \\cdots{}, y_{n} \\} $ \n",
    "#### $ \\hspace{0.15cm} \\text{and } \\, K : $ 리프 노드의 총 개수 \n",
    "#### $ \\hspace{0.15cm} \\text{and } \\, \\hat{y}_{k} : \\, k $ 번 째 리프 노드(부분공간)에서의 예측값(또는 클래스)\n",
    "#### $ \\hspace{0.15cm} \\text{and } \\, \\textbf{1}_{\\{\\textbf{x} \\in{} R_{k}\\}} : \\, \\textbf{x} $ 가 리프 노드에 해당하는 영역 $ \\, R_{k} $ 에 속하면 $ \\, 1 $, 그렇지 않으면 $ \\, 0 $ 을 반환하는 지시 함수"
   ]
  },
  {
   "cell_type": "markdown",
   "metadata": {},
   "source": [
    "#### **(2) 특징** :\n",
    "#### $ \\hspace{0.15cm} $ ① 재귀적 분기(Recursive Partitioning)\n",
    "#### $ \\hspace{0.15cm} $ ② 가지치기(Pruning)"
   ]
  },
  {
   "cell_type": "markdown",
   "metadata": {},
   "source": [
    "#### **(3) 장점** :\n",
    "#### $ \\hspace{0.15cm} $ ① 해석하기 용이함\n",
    "#### $ \\hspace{0.15cm} $ ② 엄격한 통계적 가정에 대해 자유로움 $ \\, \\rightarrow{} $ 현실적 유용성이 높음\n",
    "#### $ \\hspace{0.15cm} $ ③ 숫자형(numerical)과 범주형(categorical) 데이터에 대해 동시에 처리할 수 있음 $ \\, \\rightarrow{} $ 원핫인코딩 불필요"
   ]
  },
  {
   "cell_type": "markdown",
   "metadata": {},
   "source": [
    "#### **(4) 단점** :\n",
    "#### $ \\hspace{0.15cm} $ ① 과적합 위험 존재함\n",
    "#### $ \\hspace{0.15cm} $ ② 분류 경계가 축에 평행하게 생성됨(경직적임)"
   ]
  },
  {
   "cell_type": "markdown",
   "metadata": {},
   "source": [
    "<b></b>"
   ]
  },
  {
   "cell_type": "markdown",
   "metadata": {},
   "source": [
    "> ## **Impuritiy Methods**"
   ]
  },
  {
   "cell_type": "markdown",
   "metadata": {},
   "source": [
    "#### **(1) 분류 나무(Classification Tree)**\n",
    "##### $ \\hspace{0.15cm} $ ① 지니 지표(Gini Index) :\n",
    "##### $ \\hspace{0.3cm} \\Rightarrow{} I(A) = 1 - \\displaystyle\\sum^{S}_{i=1} p^{2}_{i} $\n",
    "##### $ \\hspace{0.45cm} \\text{where } \\, I(A) : $ 특정 노드 $ \\, A $ 에서의 불순도(impurity) \n",
    "##### $ \\hspace{0.45cm} \\text{and } \\, S : $ 클래스 개수 \n",
    "##### $ \\hspace{0.45cm} \\text{and } \\, p_{i} : $ 노드 $ \\, A $ 의 데이터 중 $ \\, i $ 번 째 클래스가 속해있는 비율\n",
    "##### $ \\hspace{0.15cm} $ ② _(Deviance) :\n",
    "##### $ \\hspace{0.3cm} \\Rightarrow{} $ **[LATEX]**"
   ]
  },
  {
   "cell_type": "markdown",
   "metadata": {},
   "source": [
    "#### **(2) 회귀 나무(Regression Tree)** :\n",
    "##### $ \\hspace{0.15cm} $ ① 평균제곱오차(MSE) :\n",
    "##### $ \\hspace{0.3cm} \\Rightarrow{} $ **[LATEX]**\n",
    "##### $ \\hspace{0.15cm} $ ② **[CONTENTS]** :\n",
    "##### $ \\hspace{0.3cm} \\Rightarrow{} $ **[LATEX]**"
   ]
  },
  {
   "cell_type": "markdown",
   "metadata": {},
   "source": [
    "#### **(3) 계산 방법** : 분기 전-후 각각의 순수도(puritiy)를 계산하여 그 차이를 계산한 정보 이득(information gain)이 계산"
   ]
  },
  {
   "cell_type": "markdown",
   "metadata": {},
   "source": [
    "<b></b>"
   ]
  },
  {
   "cell_type": "markdown",
   "metadata": {},
   "source": [
    "> ## **Recursive Partitioning** "
   ]
  },
  {
   "cell_type": "markdown",
   "metadata": {},
   "source": [
    "#### **(1) 정의** : 데이터를 분할 기준에 따라 반복적으로(재귀적으로) 분할하는 과정"
   ]
  },
  {
   "cell_type": "markdown",
   "metadata": {},
   "source": [
    "#### **(1) 연산 순서** : \n",
    "##### $ \\hspace{0.15cm} $ ① 특정 변수(열)에 대하여 정렬(alignment)\n",
    "##### $ \\hspace{0.15cm} $ ② Find midpoints between successive values\n",
    "##### $ \\hspace{0.15cm} $ ③ Calculate impurity and Find the best split\n",
    "##### $ \\hspace{0.15cm} $ ④ Repeat the splitting for each node\n",
    "##### $ \\hspace{0.15cm} $ ⑤ Make a full tree"
   ]
  },
  {
   "cell_type": "markdown",
   "metadata": {},
   "source": [
    "#### **(`PLUS`)** 특정 알고리듬(라이브러리)에서는 pre-pruing으로 미리 개선하여 진행"
   ]
  },
  {
   "cell_type": "markdown",
   "metadata": {},
   "source": [
    "<b></b>"
   ]
  },
  {
   "cell_type": "markdown",
   "metadata": {},
   "source": [
    "> ## **Pruning** "
   ]
  },
  {
   "cell_type": "markdown",
   "metadata": {},
   "source": [
    "#### **(1) 정의** : 트리가 너무 많은 노드를 가지는 것을 막기 위해서 불필요한 가지를 잘라내는 과정"
   ]
  },
  {
   "cell_type": "markdown",
   "metadata": {},
   "source": [
    "#### **(2) 연산 순서** : \n",
    "##### $ \\hspace{0.15cm} $ ① 특정 변수(열)에 대하여 정렬(alignment)\n",
    "##### $ \\hspace{0.15cm} $ ② Find midpoints between successive values\n",
    "##### $ \\hspace{0.15cm} $ ③ Calculate impurity and Find the best split\n",
    "##### $ \\hspace{0.15cm} $ ④ Repeat the splitting for each node\n",
    "##### $ \\hspace{0.15cm} $ ⑤ Make a full tree"
   ]
  },
  {
   "cell_type": "markdown",
   "metadata": {},
   "source": [
    "#### **(`PLUS`)** 비용복잡도(Cost Complexity)를 계산하여, 같은 오류율일 경우 단순한(노드가 적은) 모델을 선정함\n",
    "#### $ \\Rightarrow{} \\text{CC}(T) = \\text{Err}(T) + \\alpha{} \\times{} \\text{L}(T) $ \n",
    "#### $ \\hspace{0.15cm} \\text{where } \\, $**[LATEX]**"
   ]
  }
 ],
 "metadata": {
  "language_info": {
   "name": "python"
  }
 },
 "nbformat": 4,
 "nbformat_minor": 2
}
